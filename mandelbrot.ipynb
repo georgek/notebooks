{
 "cells": [
  {
   "cell_type": "markdown",
   "metadata": {},
   "source": [
    "# Mandelbrot set"
   ]
  },
  {
   "cell_type": "markdown",
   "metadata": {},
   "source": [
    "The Mandelbrot set consists of the set of all complex numbers $c$ for which the function $f_c(z) = z^2 + c$ does not diverge when iterated from $0$.  We'll write a function in Python which takes a complex number $c$ and returns the function $f_c$."
   ]
  },
  {
   "cell_type": "code",
   "execution_count": 7,
   "metadata": {},
   "outputs": [],
   "source": [
    "def f(c):\n",
    "    return lambda z: z**2 + c"
   ]
  },
  {
   "cell_type": "markdown",
   "metadata": {},
   "source": [
    "For example, let's iterate the function $f_{(0.8+0.2i)}$ ten times:"
   ]
  },
  {
   "cell_type": "code",
   "execution_count": 14,
   "metadata": {},
   "outputs": [
    {
     "name": "stdout",
     "output_type": "stream",
     "text": [
      "0.0 + 0.0i\n",
      "0.2 + 0.1i\n",
      "0.23 + 0.14i\n",
      "0.233 + 0.164i\n",
      "0.227 + 0.177i\n",
      "0.22 + 0.18i\n",
      "0.216 + 0.18i\n",
      "0.214 + 0.178i\n",
      "0.214 + 0.176i\n",
      "0.215 + 0.176i\n"
     ]
    }
   ],
   "source": [
    "fc = f(0.2 + 0.1j)\n",
    "z = 0 + 0j\n",
    "for _ in range(10):\n",
    "    print(f\"{z.real:0.3} + {z.imag:0.3}i\")\n",
    "    z = fc(z)"
   ]
  },
  {
   "cell_type": "markdown",
   "metadata": {},
   "source": [
    "To test if $f_c$ is diverging for a particular $c$ we can test the absolute value after a fixed set of iterations.  If the absolute value is ever greater than $2$ then the sequence is diverging.  If it's not greater than two then we can't be sure.  Our function will return `True` if it's definitely diverging, or `False` otherwise:"
   ]
  },
  {
   "cell_type": "code",
   "execution_count": 28,
   "metadata": {},
   "outputs": [],
   "source": [
    "def is_diverging(c, iterations):\n",
    "    fc = f(c)\n",
    "    z = 0 + 0j\n",
    "    for _ in range(iterations):\n",
    "        z = fc(z)\n",
    "        if abs(z) > 2:\n",
    "            return True\n",
    "    \n",
    "    return False"
   ]
  },
  {
   "cell_type": "markdown",
   "metadata": {},
   "source": [
    "Let's write a function that plots a $40\\times40$ grid representing complex numbers with the real parts from $-2$ to $2$ on the $x$-axis and imaginary parts $-2$ to $2$ on the $y$-axis:"
   ]
  },
  {
   "cell_type": "code",
   "execution_count": 40,
   "metadata": {},
   "outputs": [],
   "source": [
    "def plot_mandelbrot(iterations):\n",
    "    for y in range(20, -21, -1):\n",
    "        for x in range(-20, 21):\n",
    "            c = complex(x/10, y/10)\n",
    "            if is_diverging(c, iterations):\n",
    "                print(\"  \", end=\"\")\n",
    "            else:\n",
    "                print(\"x \", end=\"\")\n",
    "        print()"
   ]
  },
  {
   "cell_type": "markdown",
   "metadata": {},
   "source": [
    "With just one iteration we get a circle:"
   ]
  },
  {
   "cell_type": "code",
   "execution_count": 41,
   "metadata": {},
   "outputs": [
    {
     "name": "stdout",
     "output_type": "stream",
     "text": [
      "                                        x                                         \n",
      "                            x x x x x x x x x x x x x                             \n",
      "                        x x x x x x x x x x x x x x x x x                         \n",
      "                    x x x x x x x x x x x x x x x x x x x x x                     \n",
      "                x x x x x x x x x x x x x x x x x x x x x x x x x                 \n",
      "              x x x x x x x x x x x x x x x x x x x x x x x x x x x               \n",
      "            x x x x x x x x x x x x x x x x x x x x x x x x x x x x x             \n",
      "          x x x x x x x x x x x x x x x x x x x x x x x x x x x x x x x           \n",
      "        x x x x x x x x x x x x x x x x x x x x x x x x x x x x x x x x x         \n",
      "        x x x x x x x x x x x x x x x x x x x x x x x x x x x x x x x x x         \n",
      "      x x x x x x x x x x x x x x x x x x x x x x x x x x x x x x x x x x x       \n",
      "      x x x x x x x x x x x x x x x x x x x x x x x x x x x x x x x x x x x       \n",
      "    x x x x x x x x x x x x x x x x x x x x x x x x x x x x x x x x x x x x x     \n",
      "    x x x x x x x x x x x x x x x x x x x x x x x x x x x x x x x x x x x x x     \n",
      "  x x x x x x x x x x x x x x x x x x x x x x x x x x x x x x x x x x x x x x x   \n",
      "  x x x x x x x x x x x x x x x x x x x x x x x x x x x x x x x x x x x x x x x   \n",
      "  x x x x x x x x x x x x x x x x x x x x x x x x x x x x x x x x x x x x x x x   \n",
      "  x x x x x x x x x x x x x x x x x x x x x x x x x x x x x x x x x x x x x x x   \n",
      "  x x x x x x x x x x x x x x x x x x x x x x x x x x x x x x x x x x x x x x x   \n",
      "  x x x x x x x x x x x x x x x x x x x x x x x x x x x x x x x x x x x x x x x   \n",
      "x x x x x x x x x x x x x x x x x x x x x x x x x x x x x x x x x x x x x x x x x \n",
      "  x x x x x x x x x x x x x x x x x x x x x x x x x x x x x x x x x x x x x x x   \n",
      "  x x x x x x x x x x x x x x x x x x x x x x x x x x x x x x x x x x x x x x x   \n",
      "  x x x x x x x x x x x x x x x x x x x x x x x x x x x x x x x x x x x x x x x   \n",
      "  x x x x x x x x x x x x x x x x x x x x x x x x x x x x x x x x x x x x x x x   \n",
      "  x x x x x x x x x x x x x x x x x x x x x x x x x x x x x x x x x x x x x x x   \n",
      "  x x x x x x x x x x x x x x x x x x x x x x x x x x x x x x x x x x x x x x x   \n",
      "    x x x x x x x x x x x x x x x x x x x x x x x x x x x x x x x x x x x x x     \n",
      "    x x x x x x x x x x x x x x x x x x x x x x x x x x x x x x x x x x x x x     \n",
      "      x x x x x x x x x x x x x x x x x x x x x x x x x x x x x x x x x x x       \n",
      "      x x x x x x x x x x x x x x x x x x x x x x x x x x x x x x x x x x x       \n",
      "        x x x x x x x x x x x x x x x x x x x x x x x x x x x x x x x x x         \n",
      "        x x x x x x x x x x x x x x x x x x x x x x x x x x x x x x x x x         \n",
      "          x x x x x x x x x x x x x x x x x x x x x x x x x x x x x x x           \n",
      "            x x x x x x x x x x x x x x x x x x x x x x x x x x x x x             \n",
      "              x x x x x x x x x x x x x x x x x x x x x x x x x x x               \n",
      "                x x x x x x x x x x x x x x x x x x x x x x x x x                 \n",
      "                    x x x x x x x x x x x x x x x x x x x x x                     \n",
      "                        x x x x x x x x x x x x x x x x x                         \n",
      "                            x x x x x x x x x x x x x                             \n",
      "                                        x                                         \n"
     ]
    }
   ],
   "source": [
    "plot_mandelbrot(1)"
   ]
  },
  {
   "cell_type": "markdown",
   "metadata": {},
   "source": [
    "And with two iterations an eliptical shape:"
   ]
  },
  {
   "cell_type": "code",
   "execution_count": 43,
   "metadata": {},
   "outputs": [
    {
     "name": "stdout",
     "output_type": "stream",
     "text": [
      "                                                                                  \n",
      "                                                                                  \n",
      "                                                                                  \n",
      "                                                                                  \n",
      "                                                                                  \n",
      "                                                                                  \n",
      "                                                                                  \n",
      "                          x x x x x                                               \n",
      "                  x x x x x x x x x x x x x                                       \n",
      "              x x x x x x x x x x x x x x x x x                                   \n",
      "            x x x x x x x x x x x x x x x x x x x                                 \n",
      "        x x x x x x x x x x x x x x x x x x x x x x x                             \n",
      "      x x x x x x x x x x x x x x x x x x x x x x x x x                           \n",
      "      x x x x x x x x x x x x x x x x x x x x x x x x x                           \n",
      "    x x x x x x x x x x x x x x x x x x x x x x x x x x x                         \n",
      "    x x x x x x x x x x x x x x x x x x x x x x x x x x x                         \n",
      "  x x x x x x x x x x x x x x x x x x x x x x x x x x x x x                       \n",
      "  x x x x x x x x x x x x x x x x x x x x x x x x x x x x x                       \n",
      "  x x x x x x x x x x x x x x x x x x x x x x x x x x x x x                       \n",
      "  x x x x x x x x x x x x x x x x x x x x x x x x x x x x x                       \n",
      "x x x x x x x x x x x x x x x x x x x x x x x x x x x x x x x                     \n",
      "  x x x x x x x x x x x x x x x x x x x x x x x x x x x x x                       \n",
      "  x x x x x x x x x x x x x x x x x x x x x x x x x x x x x                       \n",
      "  x x x x x x x x x x x x x x x x x x x x x x x x x x x x x                       \n",
      "  x x x x x x x x x x x x x x x x x x x x x x x x x x x x x                       \n",
      "    x x x x x x x x x x x x x x x x x x x x x x x x x x x                         \n",
      "    x x x x x x x x x x x x x x x x x x x x x x x x x x x                         \n",
      "      x x x x x x x x x x x x x x x x x x x x x x x x x                           \n",
      "      x x x x x x x x x x x x x x x x x x x x x x x x x                           \n",
      "        x x x x x x x x x x x x x x x x x x x x x x x                             \n",
      "            x x x x x x x x x x x x x x x x x x x                                 \n",
      "              x x x x x x x x x x x x x x x x x                                   \n",
      "                  x x x x x x x x x x x x x                                       \n",
      "                          x x x x x                                               \n",
      "                                                                                  \n",
      "                                                                                  \n",
      "                                                                                  \n",
      "                                                                                  \n",
      "                                                                                  \n",
      "                                                                                  \n",
      "                                                                                  \n"
     ]
    }
   ],
   "source": [
    "plot_mandelbrot(2)"
   ]
  },
  {
   "cell_type": "markdown",
   "metadata": {},
   "source": [
    "Now it starts to get more familiar:"
   ]
  },
  {
   "cell_type": "code",
   "execution_count": 44,
   "metadata": {},
   "outputs": [
    {
     "name": "stdout",
     "output_type": "stream",
     "text": [
      "                                                                                  \n",
      "                                                                                  \n",
      "                                                                                  \n",
      "                                                                                  \n",
      "                                                                                  \n",
      "                                                                                  \n",
      "                                                                                  \n",
      "                                                                                  \n",
      "                                                                                  \n",
      "                              x x x x x x x                                       \n",
      "                            x x x x x x x x x                                     \n",
      "                        x x x x x x x x x x x x                                   \n",
      "                      x x x x x x x x x x x x x x                                 \n",
      "                    x x x x x x x x x x x x x x x x                               \n",
      "                  x x x x x x x x x x x x x x x x x                               \n",
      "              x x x x x x x x x x x x x x x x x x x                               \n",
      "          x x x x x x x x x x x x x x x x x x x x x x                             \n",
      "    x x x x x x x x x x x x x x x x x x x x x x x x x                             \n",
      "  x x x x x x x x x x x x x x x x x x x x x x x x x x                             \n",
      "  x x x x x x x x x x x x x x x x x x x x x x x x x x                             \n",
      "x x x x x x x x x x x x x x x x x x x x x x x x x x x                             \n",
      "  x x x x x x x x x x x x x x x x x x x x x x x x x x                             \n",
      "  x x x x x x x x x x x x x x x x x x x x x x x x x x                             \n",
      "    x x x x x x x x x x x x x x x x x x x x x x x x x                             \n",
      "          x x x x x x x x x x x x x x x x x x x x x x                             \n",
      "              x x x x x x x x x x x x x x x x x x x                               \n",
      "                  x x x x x x x x x x x x x x x x x                               \n",
      "                    x x x x x x x x x x x x x x x x                               \n",
      "                      x x x x x x x x x x x x x x                                 \n",
      "                        x x x x x x x x x x x x                                   \n",
      "                            x x x x x x x x x                                     \n",
      "                              x x x x x x x                                       \n",
      "                                                                                  \n",
      "                                                                                  \n",
      "                                                                                  \n",
      "                                                                                  \n",
      "                                                                                  \n",
      "                                                                                  \n",
      "                                                                                  \n",
      "                                                                                  \n",
      "                                                                                  \n"
     ]
    }
   ],
   "source": [
    "plot_mandelbrot(3)"
   ]
  },
  {
   "cell_type": "code",
   "execution_count": 45,
   "metadata": {},
   "outputs": [
    {
     "name": "stdout",
     "output_type": "stream",
     "text": [
      "                                                                                  \n",
      "                                                                                  \n",
      "                                                                                  \n",
      "                                                                                  \n",
      "                                                                                  \n",
      "                                                                                  \n",
      "                                                                                  \n",
      "                                                                                  \n",
      "                                                                                  \n",
      "                                    x x                                           \n",
      "                                  x x x x                                         \n",
      "                                x x x x x x                                       \n",
      "                              x x x x x x x x x                                   \n",
      "                          x x x x x x x x x x x x                                 \n",
      "                      x x x x x x x x x x x x x x                                 \n",
      "                x x x x x x x x x x x x x x x x x x                               \n",
      "            x x x x x x x x x x x x x x x x x x x x                               \n",
      "          x x x x x x x x x x x x x x x x x x x x x                               \n",
      "        x x x x x x x x x x x x x x x x x x x x x x                               \n",
      "      x x x x x x x x x x x x x x x x x x x x x x x                               \n",
      "x x x x x x x x x x x x x x x x x x x x x x x x x x                               \n",
      "      x x x x x x x x x x x x x x x x x x x x x x x                               \n",
      "        x x x x x x x x x x x x x x x x x x x x x x                               \n",
      "          x x x x x x x x x x x x x x x x x x x x x                               \n",
      "            x x x x x x x x x x x x x x x x x x x x                               \n",
      "                x x x x x x x x x x x x x x x x x x                               \n",
      "                      x x x x x x x x x x x x x x                                 \n",
      "                          x x x x x x x x x x x x                                 \n",
      "                              x x x x x x x x x                                   \n",
      "                                x x x x x x                                       \n",
      "                                  x x x x                                         \n",
      "                                    x x                                           \n",
      "                                                                                  \n",
      "                                                                                  \n",
      "                                                                                  \n",
      "                                                                                  \n",
      "                                                                                  \n",
      "                                                                                  \n",
      "                                                                                  \n",
      "                                                                                  \n",
      "                                                                                  \n"
     ]
    }
   ],
   "source": [
    "plot_mandelbrot(4)"
   ]
  },
  {
   "cell_type": "code",
   "execution_count": 46,
   "metadata": {},
   "outputs": [
    {
     "name": "stdout",
     "output_type": "stream",
     "text": [
      "                                                                                  \n",
      "                                                                                  \n",
      "                                                                                  \n",
      "                                                                                  \n",
      "                                                                                  \n",
      "                                                                                  \n",
      "                                                                                  \n",
      "                                                                                  \n",
      "                                                                                  \n",
      "                                    x                                             \n",
      "                                      x x                                         \n",
      "                                    x x                                           \n",
      "                                    x x x                                         \n",
      "                                  x x x x x                                       \n",
      "                            x x x x x x x x x x x                                 \n",
      "                            x x x x x x x x x x                                   \n",
      "                          x x x x x x x x x x x x                                 \n",
      "                x x x x x x x x x x x x x x x x x                                 \n",
      "                x x x x x x x x x x x x x x x x x                                 \n",
      "            x x x x x x x x x x x x x x x x x x                                   \n",
      "x x x x x x x x x x x x x x x x x x x x x x x x                                   \n",
      "            x x x x x x x x x x x x x x x x x x                                   \n",
      "                x x x x x x x x x x x x x x x x x                                 \n",
      "                x x x x x x x x x x x x x x x x x                                 \n",
      "                          x x x x x x x x x x x x                                 \n",
      "                            x x x x x x x x x x                                   \n",
      "                            x x x x x x x x x x x                                 \n",
      "                                  x x x x x                                       \n",
      "                                    x x x                                         \n",
      "                                    x x                                           \n",
      "                                      x x                                         \n",
      "                                    x                                             \n",
      "                                                                                  \n",
      "                                                                                  \n",
      "                                                                                  \n",
      "                                                                                  \n",
      "                                                                                  \n",
      "                                                                                  \n",
      "                                                                                  \n",
      "                                                                                  \n",
      "                                                                                  \n"
     ]
    }
   ],
   "source": [
    "plot_mandelbrot(8)"
   ]
  },
  {
   "cell_type": "code",
   "execution_count": 47,
   "metadata": {},
   "outputs": [
    {
     "name": "stdout",
     "output_type": "stream",
     "text": [
      "                                                                                  \n",
      "                                                                                  \n",
      "                                                                                  \n",
      "                                                                                  \n",
      "                                                                                  \n",
      "                                                                                  \n",
      "                                                                                  \n",
      "                                                                                  \n",
      "                                                                                  \n",
      "                                    x                                             \n",
      "                                        x                                         \n",
      "                                      x                                           \n",
      "                                    x x x                                         \n",
      "                                    x x                                           \n",
      "                              x x x x x x x                                       \n",
      "                              x x x x x x x x x                                   \n",
      "                            x x x x x x x x x x                                   \n",
      "                    x     x x x x x x x x x x x                                   \n",
      "                x x x x   x x x x x x x x x x x x                                 \n",
      "                x x x x x x x x x x x x x x x x                                   \n",
      "x x x x x x x x x x x x x x x x x x x x x x x                                     \n",
      "                x x x x x x x x x x x x x x x x                                   \n",
      "                x x x x   x x x x x x x x x x x x                                 \n",
      "                    x     x x x x x x x x x x x                                   \n",
      "                            x x x x x x x x x x                                   \n",
      "                              x x x x x x x x x                                   \n",
      "                              x x x x x x x                                       \n",
      "                                    x x                                           \n",
      "                                    x x x                                         \n",
      "                                      x                                           \n",
      "                                        x                                         \n",
      "                                    x                                             \n",
      "                                                                                  \n",
      "                                                                                  \n",
      "                                                                                  \n",
      "                                                                                  \n",
      "                                                                                  \n",
      "                                                                                  \n",
      "                                                                                  \n",
      "                                                                                  \n",
      "                                                                                  \n"
     ]
    }
   ],
   "source": [
    "plot_mandelbrot(16)"
   ]
  },
  {
   "cell_type": "code",
   "execution_count": 48,
   "metadata": {},
   "outputs": [
    {
     "name": "stdout",
     "output_type": "stream",
     "text": [
      "                                                                                  \n",
      "                                                                                  \n",
      "                                                                                  \n",
      "                                                                                  \n",
      "                                                                                  \n",
      "                                                                                  \n",
      "                                                                                  \n",
      "                                                                                  \n",
      "                                                                                  \n",
      "                                                                                  \n",
      "                                        x                                         \n",
      "                                                                                  \n",
      "                                    x x                                           \n",
      "                                    x x                                           \n",
      "                              x   x x x x x                                       \n",
      "                              x x x x x x x x x                                   \n",
      "                            x x x x x x x x x x                                   \n",
      "                    x       x x x x x x x x x x                                   \n",
      "                  x x x   x x x x x x x x x x x                                   \n",
      "                x x x x x x x x x x x x x x x x                                   \n",
      "x x x x x x x x x x x x x x x x x x x x x x x                                     \n",
      "                x x x x x x x x x x x x x x x x                                   \n",
      "                  x x x   x x x x x x x x x x x                                   \n",
      "                    x       x x x x x x x x x x                                   \n",
      "                            x x x x x x x x x x                                   \n",
      "                              x x x x x x x x x                                   \n",
      "                              x   x x x x x                                       \n",
      "                                    x x                                           \n",
      "                                    x x                                           \n",
      "                                                                                  \n",
      "                                        x                                         \n",
      "                                                                                  \n",
      "                                                                                  \n",
      "                                                                                  \n",
      "                                                                                  \n",
      "                                                                                  \n",
      "                                                                                  \n",
      "                                                                                  \n",
      "                                                                                  \n",
      "                                                                                  \n",
      "                                                                                  \n"
     ]
    }
   ],
   "source": [
    "plot_mandelbrot(32)"
   ]
  },
  {
   "cell_type": "markdown",
   "metadata": {},
   "source": [
    "At this resolution, 32 iterations is enough."
   ]
  }
 ],
 "metadata": {
  "kernelspec": {
   "display_name": "Python 3",
   "language": "python",
   "name": "python3"
  },
  "language_info": {
   "codemirror_mode": {
    "name": "ipython",
    "version": 3
   },
   "file_extension": ".py",
   "mimetype": "text/x-python",
   "name": "python",
   "nbconvert_exporter": "python",
   "pygments_lexer": "ipython3",
   "version": "3.6.5"
  }
 },
 "nbformat": 4,
 "nbformat_minor": 2
}
