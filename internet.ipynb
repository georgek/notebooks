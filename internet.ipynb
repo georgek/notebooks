{
 "cells": [
  {
   "cell_type": "markdown",
   "metadata": {},
   "source": [
    "# My TCP/IP"
   ]
  },
  {
   "cell_type": "code",
   "execution_count": 2,
   "metadata": {},
   "outputs": [],
   "source": [
    "import socket"
   ]
  },
  {
   "cell_type": "markdown",
   "metadata": {},
   "source": [
    "## Packet socket\n",
    "\n",
    "In order to read/write data from/to the wire, we need to open a packet socket. A packet socket is a feature of Linux which allows us to \"tap into\" incoming packets on an interface before they reach the OS IP stack. Incoming packets are cloned from the interface and put on to our socket.\n",
    "\n",
    "Opening a packet socket is usually restricted by the operating system for security reasons. If a user can open a packet socket then he can snoop on every packet received on that network interface, including packets destined for other users! So packet sockets are only available to root.\n",
    "\n",
    "On Linux, permission can be given to individual programs by setting *capabilities*. Since we are using Python, that means giving this Python interpreter the capabilities. I created this virtualenv using the `--copies` option, which makes a copy of the interpreter instead of a symlink. Then:\n",
    "\n",
    "```sh\n",
    "sudo setcap cap_net_admin,cap_net_raw=eip /path/to/venv/python\n",
    "```\n",
    "\n",
    "Now we can write a function to send arbitrary data using a packet socket. The `socket` function takes three arguments:\n",
    "\n",
    "- socket family: we use `AF_PACKET` for a packet socket,\n",
    "- socket type: we use `SOCK_RAW` which means we control the ethernet headers,\n",
    "- protocol: this will filter incoming packets by protocol. We want full control so use `ETH_P_ALL` (this constant is defined in header `net/ethernet.h` but isn't exposed in Python, we define it ourselves."
   ]
  },
  {
   "cell_type": "code",
   "execution_count": 3,
   "metadata": {},
   "outputs": [],
   "source": [
    "def packet_socket(interface_name):\n",
    "    ETH_P_ALL = 3\n",
    "    s = socket.socket(socket.AF_PACKET, socket.SOCK_RAW, socket.htons(ETH_P_ALL))\n",
    "    s.bind((interface_name, 0))\n",
    "    return s"
   ]
  },
  {
   "cell_type": "markdown",
   "metadata": {},
   "source": [
    "But we can't just send arbitrary data, it must be a valid Ethernet frame:"
   ]
  },
  {
   "cell_type": "code",
   "execution_count": 4,
   "metadata": {},
   "outputs": [
    {
     "name": "stdout",
     "output_type": "stream",
     "text": [
      "Invalid Ethernet frame!\n"
     ]
    }
   ],
   "source": [
    "s = packet_socket(\"lo\")\n",
    "try:\n",
    "    s.send(b\"HELLO\")\n",
    "except OSError:\n",
    "    print(\"Invalid Ethernet frame!\")\n",
    "finally:\n",
    "    s.close()"
   ]
  },
  {
   "cell_type": "markdown",
   "metadata": {},
   "source": [
    "We can make a simple context manager to handle closing of the socket:"
   ]
  },
  {
   "cell_type": "code",
   "execution_count": 5,
   "metadata": {},
   "outputs": [],
   "source": [
    "from contextlib import contextmanager\n",
    "\n",
    "@contextmanager\n",
    "def open_packet_socket(interface_name):\n",
    "    print(\"Opening socket.\")\n",
    "    sock = packet_socket(interface_name)\n",
    "    try:\n",
    "        yield sock\n",
    "    finally:\n",
    "        print(\"Closing socket.\")\n",
    "        sock.close()"
   ]
  },
  {
   "cell_type": "code",
   "execution_count": 6,
   "metadata": {},
   "outputs": [
    {
     "name": "stdout",
     "output_type": "stream",
     "text": [
      "Opening socket.\n",
      "Invalid Ethernet frame!\n",
      "Closing socket.\n"
     ]
    }
   ],
   "source": [
    "with open_packet_socket(\"lo\") as s:\n",
    "    try:\n",
    "        s.send(b\"HELLO\")\n",
    "    except OSError:\n",
    "        print(\"Invalid Ethernet frame!\")"
   ]
  },
  {
   "cell_type": "markdown",
   "metadata": {},
   "source": [
    "## OSI model layers\n",
    "\n",
    "1. Physical (Copper, Fibre, Radio etc.)\n",
    "2. Link (Ethernet, PPP etc.)\n",
    "3. Network (IPv4, IPv6)\n",
    "4. Transport (TCP, UDP)\n",
    "5. Session\n",
    "6. Presentation\n",
    "7. Application (HTTP etc.)"
   ]
  },
  {
   "cell_type": "markdown",
   "metadata": {},
   "source": [
    "## Ethernet (Layer 2)\n",
    "\n",
    "Ethernet supports sending frames. It can be assumed that all frames sent will be received by all other interfaces on the network. All interfaces are uniquely identified by a MAC address and each frame will contain a source and destination MAC address. This way, interfaces can decide which frames are intended for them and which are not.\n",
    "\n",
    "### MAC addresses\n",
    "\n",
    "MAC addresses are 48 bits (6 bytes) long. They are usually formatted in hexadecimal with bytes separated by colons."
   ]
  },
  {
   "cell_type": "code",
   "execution_count": 7,
   "metadata": {},
   "outputs": [],
   "source": [
    "def encode_mac_addr(mac_address):\n",
    "    return bytes.fromhex(mac_address.replace(\":\", \"\"))"
   ]
  },
  {
   "cell_type": "code",
   "execution_count": 8,
   "metadata": {},
   "outputs": [
    {
     "data": {
      "text/plain": [
       "b'\\x01\\x02\\x03\\x04\\x05\\x06'"
      ]
     },
     "execution_count": 8,
     "metadata": {},
     "output_type": "execute_result"
    }
   ],
   "source": [
    "encode_mac_addr(\"01:02:03:04:05:06\")"
   ]
  },
  {
   "cell_type": "code",
   "execution_count": 9,
   "metadata": {},
   "outputs": [],
   "source": [
    "def format_mac_addr(mac_address):\n",
    "    return \":\".join(f\"{byte:02x}\" for byte in mac_address)"
   ]
  },
  {
   "cell_type": "code",
   "execution_count": 10,
   "metadata": {},
   "outputs": [
    {
     "data": {
      "text/plain": [
       "'01:02:03:04:05:06'"
      ]
     },
     "execution_count": 10,
     "metadata": {},
     "output_type": "execute_result"
    }
   ],
   "source": [
    "format_mac_addr(b\"\\x01\\x02\\x03\\x04\\x05\\x06\")"
   ]
  },
  {
   "cell_type": "markdown",
   "metadata": {},
   "source": [
    "### Ethernet II frame\n",
    "\n",
    "In addition to the MAC addresses, an Ethernet II frame only contains a 2-byte *ethertype*, the payload, and a checksum. The checksum will be automatically generated by the operating system, so we only need to specify the others:"
   ]
  },
  {
   "cell_type": "code",
   "execution_count": 11,
   "metadata": {},
   "outputs": [],
   "source": [
    "def ethernet_frame(dst_addr, src_addr, ethertype, payload):\n",
    "    return dst_addr + src_addr + ethertype + payload"
   ]
  },
  {
   "cell_type": "markdown",
   "metadata": {},
   "source": [
    "Some common ethertypes are:"
   ]
  },
  {
   "cell_type": "code",
   "execution_count": 12,
   "metadata": {},
   "outputs": [],
   "source": [
    "ARP  = bytes.fromhex(\"08 06\")\n",
    "IPV4 = bytes.fromhex(\"08 00\")\n",
    "IPV6 = bytes.fromhex(\"86 DD\")\n",
    "CUST = bytes.fromhex(\"08 01\")  # custom, not a real protocol"
   ]
  },
  {
   "cell_type": "markdown",
   "metadata": {},
   "source": [
    "So we can now send a frame to the loopback interface:"
   ]
  },
  {
   "cell_type": "code",
   "execution_count": 13,
   "metadata": {},
   "outputs": [
    {
     "name": "stdout",
     "output_type": "stream",
     "text": [
      "Opening socket.\n",
      "Closing socket.\n"
     ]
    }
   ],
   "source": [
    "frame = ethernet_frame(\n",
    "    src_addr=encode_mac_addr(\"00:00:00:00:00:00\"),\n",
    "    dst_addr=encode_mac_addr(\"00:00:00:00:00:00\"),\n",
    "    ethertype=CUST,\n",
    "    payload=\"Hello, world!\".encode(),\n",
    ")\n",
    "\n",
    "with open_packet_socket(\"lo\") as s:\n",
    "    s.send(frame)"
   ]
  },
  {
   "cell_type": "markdown",
   "metadata": {},
   "source": [
    "## Internet Protocol version 4\n",
    "\n",
    "Ethernet is suitable for small to medium sized networks but it could never work on the scale of the Internet. The Internet Protocol version 4 (IPv4) is used to route packets across many different layer 1/2 networks such that any two devices in the world can communicate.\n",
    "\n",
    "To achieve this, each device gets an IP address in addition to its MAC address. Unlike MAC addresses, which are hardwired into network interfaces, IP addresses are dynamic and only make sense in layer 3.\n",
    "\n",
    "In addition to an IP address, each device is also configured with a subnet mask and a gateway. The subnet mask tells the host which other IP addresses are on its local network. For those on its local network, communication is performed directly over Ethernet. For hosts outside of its local network, packets are instead sent to the router which will forward it to another network which contains that host.\n",
    "\n",
    "For example, a host can be configured like this:\n",
    "\n",
    "```\n",
    "Address:     10.0.0.1 (or 10.0.0.1/24)\n",
    "Subnet Mask: 255.255.255.0\n",
    "Gateway:     10.0.0.254\n",
    "```\n",
    "\n",
    "The host `10.0.0.2` is on the same network and should be reachable on the layer 1/2 network, but the host `10.0.1.1` is on another network and will only be reachable via the gateway at `10.0.0.254`."
   ]
  },
  {
   "cell_type": "code",
   "execution_count": 14,
   "metadata": {},
   "outputs": [],
   "source": [
    "def encode_ip4_addr(ip4_addr):\n",
    "    return bytes(int(s) for s in ip4_addr.split(\".\"))"
   ]
  },
  {
   "cell_type": "code",
   "execution_count": 137,
   "metadata": {},
   "outputs": [
    {
     "data": {
      "text/plain": [
       "b'\\n\\x00\\x00\\xfe'"
      ]
     },
     "execution_count": 137,
     "metadata": {},
     "output_type": "execute_result"
    }
   ],
   "source": [
    "encode_ip4_addr(\"10.0.0.254\")"
   ]
  },
  {
   "cell_type": "code",
   "execution_count": 138,
   "metadata": {},
   "outputs": [
    {
     "data": {
      "text/plain": [
       "b'\\x08\\x08\\x08\\x08'"
      ]
     },
     "execution_count": 138,
     "metadata": {},
     "output_type": "execute_result"
    }
   ],
   "source": [
    "encode_ip4_addr(\"8.8.8.8\")"
   ]
  },
  {
   "cell_type": "code",
   "execution_count": 16,
   "metadata": {},
   "outputs": [],
   "source": [
    "def decode_ip4_addr(ip4_addr):\n",
    "    return \".\".join(f\"{byte:d}\" for byte in ip4_addr)"
   ]
  },
  {
   "cell_type": "code",
   "execution_count": 17,
   "metadata": {},
   "outputs": [
    {
     "data": {
      "text/plain": [
       "'10.0.0.254'"
      ]
     },
     "execution_count": 17,
     "metadata": {},
     "output_type": "execute_result"
    }
   ],
   "source": [
    "decode_ip4_addr(b'\\n\\x00\\x00\\xfe')"
   ]
  },
  {
   "cell_type": "markdown",
   "metadata": {},
   "source": [
    "### Address Resolution Protocol (Layer 2)\n",
    "\n",
    "If we somehow know the IP address of a device on our local network, we need to know its MAC address to be able to communicate. ARP is used to resolve IP addresses into MAC addresses. ARP is not specific to IPv4 or Ethernet and supports different address sizes, but we will keep it specific to IPv4 over Ethernet."
   ]
  },
  {
   "cell_type": "code",
   "execution_count": 18,
   "metadata": {},
   "outputs": [],
   "source": [
    "def arp_request(src_mac_addr, src_ip_addr, dst_ip_addr):\n",
    "    hardware_type = bytes.fromhex(\"00 01\")  # Ethernet\n",
    "    protocol_type = bytes.fromhex(\"08 00\")  # IPv4\n",
    "    hardware_len  = bytes.fromhex(\"06\")     # MAC address length\n",
    "    protocol_len  = bytes.fromhex(\"04\")     # IPv4 address length\n",
    "    operation     = bytes.fromhex(\"00 01\")  # request\n",
    "    dst_mac_addr  = encode_mac_addr(\"00:00:00:00:00:00\")  # ignored for a request\n",
    "    \n",
    "    return (\n",
    "        hardware_type\n",
    "        + protocol_type\n",
    "        + hardware_len\n",
    "        + protocol_len\n",
    "        + operation\n",
    "        + src_mac_addr\n",
    "        + src_ip_addr\n",
    "        + dst_mac_addr\n",
    "        + dst_ip_addr\n",
    "    )"
   ]
  },
  {
   "cell_type": "markdown",
   "metadata": {},
   "source": [
    "If we want to receive a reply to an ARP request, we must put in our real MAC address (this is technically only necessary if the network uses switches instead of hubs). We will send a MAC request to the router on this network."
   ]
  },
  {
   "cell_type": "code",
   "execution_count": 117,
   "metadata": {},
   "outputs": [],
   "source": [
    "MY_MAC_ADDR = encode_mac_addr(\"1c:87:2c:46:e0:47\")\n",
    "MY_IP_ADDR = encode_ip4_addr(\"192.168.1.250\")\n",
    "SUBNET_MASK = encode_ip4_addr(\"255.255.255.0\")\n",
    "ROUTER_IP_ADDR = encode_ip4_addr(\"192.168.1.1\")\n",
    "\n",
    "arp_packet = arp_request(\n",
    "    src_mac_addr=MY_MAC_ADDR,\n",
    "    src_ip_addr=MY_IP_ADDR,\n",
    "    dst_ip_addr=ROUTER_IP_ADDR,\n",
    ")"
   ]
  },
  {
   "cell_type": "markdown",
   "metadata": {},
   "source": [
    "When we send this packet, we want to broadcast it to the network (since we don't know the MAC address of the router yet. To do that, a special MAC address `ff:ff:ff:ff:ff:ff` is used."
   ]
  },
  {
   "cell_type": "code",
   "execution_count": 20,
   "metadata": {},
   "outputs": [
    {
     "name": "stdout",
     "output_type": "stream",
     "text": [
      "Opening socket.\n",
      "Closing socket.\n"
     ]
    }
   ],
   "source": [
    "BROADCAST_MAC_ADDR = encode_mac_addr(\"ff:ff:ff:ff:ff:ff\")\n",
    "INTERFACE_NAME = \"eno1\"\n",
    "\n",
    "with open_packet_socket(INTERFACE_NAME) as s:\n",
    "    s.send(\n",
    "        ethernet_frame(\n",
    "            src_addr=MY_MAC_ADDR,\n",
    "            dst_addr=BROADCAST_MAC_ADDR,\n",
    "            ethertype=ARP,\n",
    "            payload=arp_packet,\n",
    "        ),\n",
    "    )"
   ]
  },
  {
   "cell_type": "markdown",
   "metadata": {},
   "source": [
    "After sending this packet to the network we would expect to receive a reply from the router telling us its MAC address. This can be stored in a table for later use.\n",
    "\n",
    "To get the reply, we need to read from the socket. Since we will receive all packets on the interface, it is necessary to decode every ethernet frame and discard those without an ARP ethertype. We could also receive other ARP replies at any time (called announcements, or gratuitous ARP messages) so we need to check if this is indeed the reply we were waiting for.\n",
    "\n",
    "First, a function to decode an ethernet frame:"
   ]
  },
  {
   "cell_type": "code",
   "execution_count": 21,
   "metadata": {},
   "outputs": [],
   "source": [
    "from collections import namedtuple\n",
    "\n",
    "EthernetFrame = namedtuple(\"EthernetFrame\", \"dst_addr src_addr ethertype payload\")\n",
    "def decode_ethernet_frame(data):\n",
    "    return EthernetFrame(\n",
    "        dst_addr=data[0:6],\n",
    "        src_addr=data[6:12],\n",
    "        ethertype=data[12:14],\n",
    "        payload=data[14:],\n",
    "    )"
   ]
  },
  {
   "cell_type": "markdown",
   "metadata": {},
   "source": [
    "Now we can receive the first packet on the socket:"
   ]
  },
  {
   "cell_type": "code",
   "execution_count": 24,
   "metadata": {},
   "outputs": [
    {
     "name": "stdout",
     "output_type": "stream",
     "text": [
      "Opening socket.\n",
      "Closing socket.\n",
      "Destination 00:1f:16:f8:37:86\n",
      "Source 1c:87:2c:46:e0:47\n",
      "Ethertype b'\\x08\\x00'\n",
      "Payload length: 40 bytes\n"
     ]
    }
   ],
   "source": [
    "with open_packet_socket(\"eno1\") as s:\n",
    "    data = s.recv(65536)\n",
    "    \n",
    "frame = decode_ethernet_frame(data)\n",
    "print(\"Destination\", format_mac_addr(frame.dst_addr))\n",
    "print(\"Source\", format_mac_addr(frame.src_addr))\n",
    "print(\"Ethertype\", frame.ethertype)\n",
    "print(\"Payload length:\", len(frame.payload), \"bytes\")"
   ]
  },
  {
   "cell_type": "markdown",
   "metadata": {},
   "source": [
    "But we could never guarantee the first packet we receive will be the ARP response we are waiting for. So we need a way to filter all other packets until we receive the ARP response we're waiting for. First let's see how many other packets are received before the response:"
   ]
  },
  {
   "cell_type": "code",
   "execution_count": 41,
   "metadata": {},
   "outputs": [
    {
     "name": "stdout",
     "output_type": "stream",
     "text": [
      "Opening socket.\n",
      "Packets received:  1\n",
      "b'\\x00\\x01\\x08\\x00\\x06\\x04\\x00\\x02\\x00\\x1f\\x16\\xf87\\x86\\xc0\\xa8\\x01\\x01\\x1c\\x87,F\\xe0G\\xc0\\xa8\\x01\\xfa\\x00\\x00\\x00\\x00\\x00\\x00\\x00\\x00\\x00\\x00\\x00\\x00\\x00\\x00\\x00\\x00\\x00\\x00'\n",
      "Closing socket.\n"
     ]
    }
   ],
   "source": [
    "with open_packet_socket(\"eno1\") as s:\n",
    "    s.send(\n",
    "        ethernet_frame(\n",
    "            src_addr=MY_MAC_ADDR,\n",
    "            dst_addr=BROADCAST_MAC_ADDR,\n",
    "            ethertype=ARP,\n",
    "            payload=arp_packet,\n",
    "        ),\n",
    "    )\n",
    "    packets_received = 0\n",
    "    while True:\n",
    "        data = s.recv(65536)\n",
    "        packets_received += 1\n",
    "        frame = decode_ethernet_frame(data)\n",
    "        if frame.dst_addr == MY_MAC_ADDR and frame.ethertype == ARP:\n",
    "            print(\"Packets received: \", packets_received)\n",
    "            print(frame.payload)\n",
    "            break"
   ]
  },
  {
   "cell_type": "markdown",
   "metadata": {},
   "source": [
    "We need to be able to decode the ARP payload:"
   ]
  },
  {
   "cell_type": "code",
   "execution_count": 30,
   "metadata": {},
   "outputs": [],
   "source": [
    "ArpPacket = namedtuple(\"ArpPacket\", \"htype ptype hlen plen oper sha spa tha tpa\")\n",
    "def decode_arp_packet(data):\n",
    "    return ArpPacket(\n",
    "        htype=data[0:2],\n",
    "        ptype=data[2:4],\n",
    "        hlen=data[4:5],\n",
    "        plen=data[5:6],\n",
    "        oper=data[6:8],\n",
    "        sha=data[8:14],\n",
    "        spa=data[14:18],\n",
    "        tha=data[18:24],\n",
    "        tpa=data[24:26],\n",
    "    )"
   ]
  },
  {
   "cell_type": "markdown",
   "metadata": {},
   "source": [
    "To avoid a situation where we wait forever we can set a timeout and use the `select` function to enforce the timeout even when we are waiting for packets to arrive:"
   ]
  },
  {
   "cell_type": "code",
   "execution_count": 31,
   "metadata": {},
   "outputs": [],
   "source": [
    "import select, time\n",
    "\n",
    "def receive_arp_response(socket, sender_ip_addr, timeout=1.0):\n",
    "    time_left = timeout\n",
    "    while True:\n",
    "        start_select = time.time()\n",
    "        ready = select.select([socket], [], [], time_left)\n",
    "        select_time = time.time() - start_select\n",
    "        if ready[0] == []: # timeout\n",
    "            return\n",
    "\n",
    "        data = socket.recv(65536)\n",
    "        frame = decode_ethernet_frame(data)\n",
    "        if frame.dst_addr == MY_MAC_ADDR and frame.ethertype == ARP:\n",
    "            arp_packet = decode_arp_packet(frame.payload)\n",
    "            if arp_packet.spa == sender_ip_addr:\n",
    "                return arp_packet\n",
    "            \n",
    "        time_left -= select_time\n",
    "        if time_left <= 0:\n",
    "            return"
   ]
  },
  {
   "cell_type": "code",
   "execution_count": 116,
   "metadata": {},
   "outputs": [
    {
     "name": "stdout",
     "output_type": "stream",
     "text": [
      "Opening socket.\n",
      "00:1f:16:f8:37:86\n",
      "Closing socket.\n"
     ]
    }
   ],
   "source": [
    "with open_packet_socket(\"eno1\") as s:\n",
    "    s.send(\n",
    "        ethernet_frame(\n",
    "            src_addr=MY_MAC_ADDR,\n",
    "            dst_addr=BROADCAST_MAC_ADDR,\n",
    "            ethertype=ARP,\n",
    "            payload=arp_packet,\n",
    "        ),\n",
    "    )\n",
    "    response = receive_arp_response(s, ROUTER_IP_ADDR, timeout=1.0)\n",
    "    print(format_mac_addr(response.sha))"
   ]
  },
  {
   "cell_type": "markdown",
   "metadata": {},
   "source": [
    "We now have enough to write a function to resolve a IP address into a MAC address. It it common for these resolutions to be stored in an ARP table for future use rather than looking them up via ARP each time."
   ]
  },
  {
   "cell_type": "code",
   "execution_count": 119,
   "metadata": {},
   "outputs": [],
   "source": [
    "ARP_TABLE = {}\n",
    "\n",
    "def resolve_local_ip_addr(ip_addr):\n",
    "    \"\"\"Resolve an IP address on the LAN to a MAC address\"\"\"\n",
    "    if ip_addr in ARP_TABLE:\n",
    "        return ARP_TABLE[ip_addr]\n",
    "    with open_packet_socket(\"eno1\") as s:\n",
    "        arp_packet = arp_packet = arp_request(\n",
    "            src_mac_addr=MY_MAC_ADDR,\n",
    "            src_ip_addr=MY_IP_ADDR,\n",
    "            dst_ip_addr=ip_addr,\n",
    "        )\n",
    "        s.send(\n",
    "            ethernet_frame(\n",
    "                src_addr=MY_MAC_ADDR,\n",
    "                dst_addr=BROADCAST_MAC_ADDR,\n",
    "                ethertype=ARP,\n",
    "                payload=arp_packet,\n",
    "            ),\n",
    "        )\n",
    "        response = receive_arp_response(s, ip_addr, timeout=1.0)\n",
    "        if response:\n",
    "            ARP_TABLE[ip_addr] = response.sha\n",
    "            return response.sha\n",
    "        else:\n",
    "            return None"
   ]
  },
  {
   "cell_type": "code",
   "execution_count": 122,
   "metadata": {},
   "outputs": [
    {
     "name": "stdout",
     "output_type": "stream",
     "text": [
      "00:1f:16:f8:37:86\n"
     ]
    }
   ],
   "source": [
    "mac_addr = resolve_ip_addr(encode_ip4_addr(\"192.168.1.1\"))\n",
    "print(format_mac_addr(mac_addr))"
   ]
  },
  {
   "cell_type": "markdown",
   "metadata": {},
   "source": [
    "However, we can only resolve IP addresses that are on our local network segment. To send messages to other IP addresses, we need to send them to the router instead. To work out which addresses are on our segment we use the subnet mask."
   ]
  },
  {
   "cell_type": "code",
   "execution_count": 123,
   "metadata": {},
   "outputs": [],
   "source": [
    "def is_on_same_subnet(ip_addr):\n",
    "    \"\"\"Returns True iff ip_addr is on the same subnet as our address\"\"\"\n",
    "    my_network_prefix = bytes(b1 & b2 for b1, b2 in zip(MY_IP_ADDR, SUBNET_MASK))\n",
    "    other_network_prefix = bytes(b1 & b2 for b1, b2 in zip(ip_addr, SUBNET_MASK))\n",
    "    return my_network_prefix == other_network_prefix"
   ]
  },
  {
   "cell_type": "code",
   "execution_count": 125,
   "metadata": {},
   "outputs": [
    {
     "data": {
      "text/plain": [
       "True"
      ]
     },
     "execution_count": 125,
     "metadata": {},
     "output_type": "execute_result"
    }
   ],
   "source": [
    "is_on_same_subnet(encode_ip4_addr(\"192.168.1.54\"))"
   ]
  },
  {
   "cell_type": "code",
   "execution_count": 127,
   "metadata": {},
   "outputs": [
    {
     "data": {
      "text/plain": [
       "False"
      ]
     },
     "execution_count": 127,
     "metadata": {},
     "output_type": "execute_result"
    }
   ],
   "source": [
    "is_on_same_subnet(encode_ip4_addr(\"8.8.8.8\"))"
   ]
  },
  {
   "cell_type": "code",
   "execution_count": 129,
   "metadata": {},
   "outputs": [],
   "source": [
    "def resolve_ip_addr(ip_addr):\n",
    "    \"\"\"Resolve any IP address to a MAC address\"\"\"\n",
    "    if is_on_same_subnet(ip_addr):\n",
    "        return resolve_local_ip_addr(ip_addr)\n",
    "    else:\n",
    "        return resolve_local_ip_addr(ROUTER_IP_ADDR)"
   ]
  },
  {
   "cell_type": "markdown",
   "metadata": {},
   "source": [
    "# IP (Layer 3)\n",
    "\n",
    "Now that we can resolve IP addresses to MAC addresses we can build IP packets to send across networks."
   ]
  },
  {
   "cell_type": "code",
   "execution_count": 139,
   "metadata": {},
   "outputs": [],
   "source": [
    "def calculate_checksum(header):\n",
    "    words = [int.from_bytes(header[i:i+2], \"big\") for i in range(0, len(header), 2)]\n",
    "    full_sum = sum(words)\n",
    "    overflow = full_sum >> 16\n",
    "    full_sum = (full_sum&0xFFFF) + overflow\n",
    "    overflow = full_sum >> 16\n",
    "    full_sum = (full_sum&0xFFFF) + overflow\n",
    "    return (~full_sum&0xFFFF)"
   ]
  },
  {
   "cell_type": "code",
   "execution_count": 47,
   "metadata": {},
   "outputs": [],
   "source": [
    "def ip4_packet(src_ip_addr, dst_ip_addr, protocol, payload):\n",
    "    version = 4\n",
    "    ihl = 5  # header length in 32 bits words\n",
    "    dscp = 0\n",
    "    ecn = 0\n",
    "    total_length = ihl*4 + len(payload)\n",
    "    identification = 0  # only important for fragmentation\n",
    "    flags = 0b010  # don't fragment\n",
    "    fragment_offset = 0\n",
    "    ttl = 64\n",
    "    \n",
    "    header = bytearray(ihl*4)\n",
    "    header[0] = (version<<4) + ihl\n",
    "    header[1] = (dscp<<2) + ecn\n",
    "    header[2:4] = total_length.to_bytes(2, \"big\")\n",
    "    header[4:6] = identification.to_bytes(2, \"big\")\n",
    "    header[6:8] = ((flags<<13) + fragment_offset).to_bytes(2, \"big\")\n",
    "    header[8] = ttl\n",
    "    header[9] = protocol\n",
    "    header[12:16] = src_ip_addr\n",
    "    header[16:20] = dst_ip_addr\n",
    "    \n",
    "    checksum = calculate_checksum(header)\n",
    "    header[10:12] = checksum.to_bytes(2, \"big\")\n",
    "    \n",
    "    return header + payload"
   ]
  },
  {
   "cell_type": "code",
   "execution_count": 50,
   "metadata": {},
   "outputs": [
    {
     "name": "stdout",
     "output_type": "stream",
     "text": [
      "Opening socket.\n",
      "Closing socket.\n"
     ]
    }
   ],
   "source": [
    "with open_packet_socket(\"lo\") as s:\n",
    "    s.send(\n",
    "        ethernet_frame(\n",
    "            src_addr=MY_MAC_ADDR,\n",
    "            dst_addr=BROADCAST_MAC_ADDR,\n",
    "            ethertype=IPV4,\n",
    "            payload=ip4_packet(\n",
    "                src_ip_addr=encode_ip4_addr(\"192.168.1.250\"),\n",
    "                dst_ip_addr=encode_ip4_addr(\"192.168.1.1\"),\n",
    "                protocol=0xfd,\n",
    "                payload=b\"Hello, world!\",\n",
    "            ),\n",
    "        ),\n",
    "    )"
   ]
  },
  {
   "cell_type": "markdown",
   "metadata": {},
   "source": [
    "## ICMP\n",
    "\n",
    "Internet Control Message Protocol (ICMP) is used to support IP routing. The famous \"ping\" utility uses ICMP. The client sends an echo request and a well-behaved host receiving a request will send back an echo reply."
   ]
  },
  {
   "cell_type": "code",
   "execution_count": 84,
   "metadata": {},
   "outputs": [],
   "source": [
    "def icmp_ping_request_packet(identifier, sequence_no):\n",
    "    message_type = 8\n",
    "    message_code = 0\n",
    "    \n",
    "    message = bytearray(8)\n",
    "    message[0] = message_type\n",
    "    message[1] = message_code\n",
    "    message[4:6] = identifier.to_bytes(2, \"big\")\n",
    "    message[6:8] = sequence_no.to_bytes(2, \"big\")\n",
    "    message +=  \"Python!!\".encode(\"ascii\")\n",
    "\n",
    "    checksum = calculate_checksum(message)\n",
    "    message[2:4] = checksum.to_bytes(2, \"big\")\n",
    "    \n",
    "    return message"
   ]
  },
  {
   "cell_type": "code",
   "execution_count": 102,
   "metadata": {},
   "outputs": [],
   "source": [
    "def send_echo_request(socket, dst_ip_addr, identifier, sequence_no):\n",
    "    socket.send(\n",
    "        ethernet_frame(\n",
    "            src_addr=MY_MAC_ADDR,\n",
    "            dst_addr=resolve_ip_addr(dst_ip_addr),\n",
    "            ethertype=IPV4,\n",
    "            payload=ip4_packet(\n",
    "                src_ip_addr=MY_IP_ADDR,\n",
    "                dst_ip_addr=dst_ip_addr,\n",
    "                protocol=1,\n",
    "                payload=icmp_ping_request_packet(identifier, sequence_no),\n",
    "            ),\n",
    "        ),\n",
    "    )"
   ]
  },
  {
   "cell_type": "markdown",
   "metadata": {},
   "source": [
    "In order to receive the reply, we'll need corresponding functions to receive and unpack packets."
   ]
  },
  {
   "cell_type": "code",
   "execution_count": 95,
   "metadata": {},
   "outputs": [],
   "source": [
    "IcmpPacket = namedtuple(\"IcmpPacket\", \"type code checksum identifier sequence_no payload\")\n",
    "def decode_icmp_packet(data):\n",
    "    return IcmpPacket(\n",
    "        type=data[0],\n",
    "        code=data[1],\n",
    "        checksum=data[2:4],\n",
    "        identifier=int.from_bytes(data[4:6], \"big\"),\n",
    "        sequence_no=int.from_bytes(data[6:8], \"big\"),\n",
    "        payload=data[8:],\n",
    "    )"
   ]
  },
  {
   "cell_type": "code",
   "execution_count": 62,
   "metadata": {},
   "outputs": [],
   "source": [
    "Ipv4Packet = namedtuple(\"Ipv4Packet\", \"version_ihl type length id flags_offset ttl protocol checksum src_addr dst_addr payload\")\n",
    "def decode_ipv4_packet(data):\n",
    "    return Ipv4Packet(\n",
    "        version_ihl=data[0],\n",
    "        type=data[1],\n",
    "        length=data[2:4],\n",
    "        id=data[4:6],\n",
    "        flags_offset=data[6:8],\n",
    "        ttl=data[8],\n",
    "        protocol=data[9],\n",
    "        checksum=data[10:12],\n",
    "        src_addr=data[12:16],\n",
    "        dst_addr=data[16:20],\n",
    "        payload=data[20:],\n",
    "    )"
   ]
  },
  {
   "cell_type": "code",
   "execution_count": 108,
   "metadata": {},
   "outputs": [],
   "source": [
    "def receive_echo_reply(socket, src_ip_addr, identifier, sequence_no, timeout=1.0):\n",
    "    time_left = timeout\n",
    "    while True:\n",
    "        start_select = time.time()\n",
    "        ready = select.select([socket], [], [], time_left)\n",
    "        select_time = time.time() - start_select\n",
    "        if ready[0] == []: # timeout\n",
    "            return\n",
    "\n",
    "        data = socket.recv(65536)\n",
    "        frame = decode_ethernet_frame(data)\n",
    "        if frame.dst_addr == MY_MAC_ADDR and frame.ethertype == IPV4:\n",
    "            ipv4_packet = decode_ipv4_packet(frame.payload)\n",
    "            if ipv4_packet.dst_addr == MY_IP_ADDR and ipv4_packet.src_addr == src_ip_addr and ipv4_packet.protocol == 1:\n",
    "                icmp_packet = decode_icmp_packet(ipv4_packet.payload)\n",
    "                if icmp_packet.identifier == identifier and icmp_packet.sequence_no == sequence_no:\n",
    "                    return icmp_packet\n",
    "\n",
    "        time_left -= select_time\n",
    "        if time_left <= 0:\n",
    "            return"
   ]
  },
  {
   "cell_type": "code",
   "execution_count": 134,
   "metadata": {},
   "outputs": [
    {
     "name": "stdout",
     "output_type": "stream",
     "text": [
      "Opening socket.\n",
      "IcmpPacket(type=0, code=0, checksum=b'\\xaa\\x8c', identifier=1, sequence_no=1, payload=b'Python!!\\x00\\x00\\x00\\x00\\x00\\x00\\x00\\x00\\x00\\x00')\n",
      "Delay: 0.508ms\n",
      "Closing socket.\n"
     ]
    }
   ],
   "source": [
    "with open_packet_socket(\"eno1\") as s:\n",
    "    start = time.time()\n",
    "    send_echo_request(s, ROUTER_IP_ADDR, 1, 1)\n",
    "    response = receive_echo_reply(s, ROUTER_IP_ADDR, 1, 1, timeout=1.0)\n",
    "    delay = time.time() - start\n",
    "    print(response)\n",
    "    print(f\"Delay: {delay*1000:.3f}ms\")"
   ]
  },
  {
   "cell_type": "markdown",
   "metadata": {},
   "source": [
    "Now, because we are using IPv4, we should be able to ping internet hosts!"
   ]
  },
  {
   "cell_type": "code",
   "execution_count": 140,
   "metadata": {},
   "outputs": [
    {
     "name": "stdout",
     "output_type": "stream",
     "text": [
      "Opening socket.\n",
      "IcmpPacket(type=0, code=0, checksum=b'\\xaa\\x8c', identifier=1, sequence_no=1, payload=b'Python!!\\x00\\x00\\x00\\x00\\x00\\x00\\x00\\x00\\x00\\x00')\n",
      "Delay: 11.328ms\n",
      "Closing socket.\n"
     ]
    }
   ],
   "source": [
    "GOOGLE_DNS_ADDR = encode_ip4_addr(\"8.8.8.8\")\n",
    "with open_packet_socket(\"eno1\") as s:\n",
    "    start = time.time()\n",
    "    send_echo_request(s, GOOGLE_DNS_ADDR, 1, 1)\n",
    "    response = receive_echo_reply(s, GOOGLE_DNS_ADDR, 1, 1, timeout=1.0)\n",
    "    delay = time.time() - start\n",
    "    print(response)\n",
    "    print(f\"Delay: {delay*1000:.3f}ms\")"
   ]
  }
 ],
 "metadata": {
  "kernelspec": {
   "display_name": "Python 3",
   "language": "python",
   "name": "python3"
  },
  "language_info": {
   "codemirror_mode": {
    "name": "ipython",
    "version": 3
   },
   "file_extension": ".py",
   "mimetype": "text/x-python",
   "name": "python",
   "nbconvert_exporter": "python",
   "pygments_lexer": "ipython3",
   "version": "3.8.7"
  }
 },
 "nbformat": 4,
 "nbformat_minor": 4
}
